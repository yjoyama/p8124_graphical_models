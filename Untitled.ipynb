{
 "cells": [
  {
   "cell_type": "code",
   "execution_count": 1,
   "id": "557a36bc",
   "metadata": {},
   "outputs": [
    {
     "name": "stdout",
     "output_type": "stream",
     "text": [
      "Requirement already satisfied: utils in /Users/yukijoyama/opt/anaconda3/lib/python3.9/site-packages (1.0.2)\n",
      "Note: you may need to restart the kernel to use updated packages.\n"
     ]
    }
   ],
   "source": [
    "pip install utils"
   ]
  },
  {
   "cell_type": "code",
   "execution_count": 3,
   "id": "92f7ee2e",
   "metadata": {},
   "outputs": [
    {
     "name": "stdout",
     "output_type": "stream",
     "text": [
      "Collecting pcalg\n",
      "  Downloading pcalg-0.2.2.tar.gz (5.6 kB)\n",
      "  Preparing metadata (setup.py) ... \u001b[?25ldone\n",
      "\u001b[?25hRequirement already satisfied: networkx>=2.0 in /Users/yukijoyama/opt/anaconda3/lib/python3.9/site-packages (from pcalg) (2.7.1)\n",
      "Collecting gsq>=0.1.6 (from pcalg)\n",
      "  Downloading gsq-0.1.6.tar.gz (30 kB)\n",
      "  Preparing metadata (setup.py) ... \u001b[?25ldone\n",
      "\u001b[?25hRequirement already satisfied: scipy>=0.18.1 in /Users/yukijoyama/opt/anaconda3/lib/python3.9/site-packages (from gsq>=0.1.6->pcalg) (1.7.3)\n",
      "Requirement already satisfied: numpy>=1.12.0 in /Users/yukijoyama/opt/anaconda3/lib/python3.9/site-packages (from gsq>=0.1.6->pcalg) (1.21.5)\n",
      "Building wheels for collected packages: pcalg, gsq\n",
      "  Building wheel for pcalg (setup.py) ... \u001b[?25ldone\n",
      "\u001b[?25h  Created wheel for pcalg: filename=pcalg-0.2.2-py3-none-any.whl size=5753 sha256=c3de87c03cd0908cc659b8be6b991b1e546587b368fe1be620b0baa4d03a0951\n",
      "  Stored in directory: /Users/yukijoyama/Library/Caches/pip/wheels/77/a2/2f/ba0f411e5776fb0382222ac3a9a2320fa7d96751675493c5f5\n",
      "  Building wheel for gsq (setup.py) ... \u001b[?25ldone\n",
      "\u001b[?25h  Created wheel for gsq: filename=gsq-0.1.6-py3-none-any.whl size=34194 sha256=cdf39dadc63fdad860557f8259dedd85b02fc9cf2ade2974f29cfff488b0e5e4\n",
      "  Stored in directory: /Users/yukijoyama/Library/Caches/pip/wheels/fd/d8/38/a2eb85dfbc7c6678e83756ddea851b994f65b5a287ac4c759d\n",
      "Successfully built pcalg gsq\n",
      "Installing collected packages: gsq, pcalg\n",
      "Successfully installed gsq-0.1.6 pcalg-0.2.2\n",
      "Note: you may need to restart the kernel to use updated packages.\n"
     ]
    }
   ],
   "source": [
    "pip install pcalg"
   ]
  },
  {
   "cell_type": "code",
   "execution_count": 4,
   "id": "ca912b4e",
   "metadata": {},
   "outputs": [
    {
     "name": "stdout",
     "output_type": "stream",
     "text": [
      "Collecting statistics\n",
      "  Downloading statistics-1.0.3.5.tar.gz (8.3 kB)\n",
      "  Preparing metadata (setup.py) ... \u001b[?25ldone\n",
      "\u001b[?25hRequirement already satisfied: docutils>=0.3 in /Users/yukijoyama/opt/anaconda3/lib/python3.9/site-packages (from statistics) (0.17.1)\n",
      "Building wheels for collected packages: statistics\n",
      "  Building wheel for statistics (setup.py) ... \u001b[?25ldone\n",
      "\u001b[?25h  Created wheel for statistics: filename=statistics-1.0.3.5-py3-none-any.whl size=7454 sha256=d234ad4e45a637756166a18b1695b0de08789cc06876f81061c90fa7590d6235\n",
      "  Stored in directory: /Users/yukijoyama/Library/Caches/pip/wheels/26/3c/70/9467407f3aa90862061eadcd286627b23a8bab6789b667776f\n",
      "Successfully built statistics\n",
      "Installing collected packages: statistics\n",
      "Successfully installed statistics-1.0.3.5\n",
      "Note: you may need to restart the kernel to use updated packages.\n"
     ]
    }
   ],
   "source": [
    "pip install statistics"
   ]
  },
  {
   "cell_type": "code",
   "execution_count": 7,
   "id": "ed939861",
   "metadata": {},
   "outputs": [
    {
     "name": "stdout",
     "output_type": "stream",
     "text": [
      "Requirement already satisfied: pandas in /Users/yukijoyama/opt/anaconda3/lib/python3.9/site-packages (1.4.2)\n",
      "Requirement already satisfied: python-dateutil>=2.8.1 in /Users/yukijoyama/opt/anaconda3/lib/python3.9/site-packages (from pandas) (2.8.2)\n",
      "Requirement already satisfied: pytz>=2020.1 in /Users/yukijoyama/opt/anaconda3/lib/python3.9/site-packages (from pandas) (2021.3)\n",
      "Requirement already satisfied: numpy>=1.18.5 in /Users/yukijoyama/opt/anaconda3/lib/python3.9/site-packages (from pandas) (1.21.5)\n",
      "Requirement already satisfied: six>=1.5 in /Users/yukijoyama/opt/anaconda3/lib/python3.9/site-packages (from python-dateutil>=2.8.1->pandas) (1.16.0)\n",
      "Note: you may need to restart the kernel to use updated packages.\n"
     ]
    }
   ],
   "source": [
    "pip install pandas"
   ]
  },
  {
   "cell_type": "code",
   "execution_count": 8,
   "id": "253c4859",
   "metadata": {},
   "outputs": [
    {
     "name": "stdout",
     "output_type": "stream",
     "text": [
      "Requirement already satisfied: numpy in /Users/yukijoyama/opt/anaconda3/lib/python3.9/site-packages (1.21.5)\n",
      "Note: you may need to restart the kernel to use updated packages.\n"
     ]
    }
   ],
   "source": [
    "pip install numpy"
   ]
  },
  {
   "cell_type": "code",
   "execution_count": 9,
   "id": "75870c24",
   "metadata": {},
   "outputs": [
    {
     "name": "stdout",
     "output_type": "stream",
     "text": [
      "Requirement already satisfied: networkx in /Users/yukijoyama/opt/anaconda3/lib/python3.9/site-packages (2.7.1)\n",
      "Note: you may need to restart the kernel to use updated packages.\n"
     ]
    }
   ],
   "source": [
    "pip install networkx"
   ]
  },
  {
   "cell_type": "code",
   "execution_count": 11,
   "id": "b37bf2c1",
   "metadata": {},
   "outputs": [
    {
     "name": "stdout",
     "output_type": "stream",
     "text": [
      "Collecting random2\n",
      "  Downloading random2-1.0.2-py3-none-any.whl.metadata (2.1 kB)\n",
      "Downloading random2-1.0.2-py3-none-any.whl (12 kB)\n",
      "Installing collected packages: random2\n",
      "Successfully installed random2-1.0.2\n",
      "Note: you may need to restart the kernel to use updated packages.\n"
     ]
    }
   ],
   "source": [
    "pip install random2"
   ]
  },
  {
   "cell_type": "code",
   "execution_count": null,
   "id": "a5d1aab5",
   "metadata": {},
   "outputs": [
    {
     "name": "stdout",
     "output_type": "stream",
     "text": [
      "Collecting pgmpy\n",
      "  Downloading pgmpy-0.1.26-py3-none-any.whl.metadata (9.1 kB)\n",
      "Requirement already satisfied: networkx in /Users/yukijoyama/opt/anaconda3/lib/python3.9/site-packages (from pgmpy) (2.7.1)\n",
      "Requirement already satisfied: numpy in /Users/yukijoyama/opt/anaconda3/lib/python3.9/site-packages (from pgmpy) (1.21.5)\n",
      "Requirement already satisfied: scipy in /Users/yukijoyama/opt/anaconda3/lib/python3.9/site-packages (from pgmpy) (1.7.3)\n",
      "Requirement already satisfied: scikit-learn in /Users/yukijoyama/opt/anaconda3/lib/python3.9/site-packages (from pgmpy) (1.0.2)\n",
      "Requirement already satisfied: pandas in /Users/yukijoyama/opt/anaconda3/lib/python3.9/site-packages (from pgmpy) (1.4.2)\n",
      "Requirement already satisfied: pyparsing in /Users/yukijoyama/opt/anaconda3/lib/python3.9/site-packages (from pgmpy) (3.0.4)\n",
      "Collecting torch (from pgmpy)\n",
      "  Downloading torch-2.2.2-cp39-none-macosx_10_9_x86_64.whl.metadata (25 kB)\n",
      "Requirement already satisfied: statsmodels in /Users/yukijoyama/opt/anaconda3/lib/python3.9/site-packages (from pgmpy) (0.13.2)\n",
      "Requirement already satisfied: tqdm in /Users/yukijoyama/opt/anaconda3/lib/python3.9/site-packages (from pgmpy) (4.64.0)\n",
      "Requirement already satisfied: joblib in /Users/yukijoyama/opt/anaconda3/lib/python3.9/site-packages (from pgmpy) (1.1.0)\n",
      "Requirement already satisfied: opt-einsum in /Users/yukijoyama/opt/anaconda3/lib/python3.9/site-packages (from pgmpy) (3.3.0)\n",
      "Requirement already satisfied: xgboost in /Users/yukijoyama/opt/anaconda3/lib/python3.9/site-packages (from pgmpy) (1.7.1)\n",
      "Collecting google-generativeai (from pgmpy)\n",
      "  Downloading google_generativeai-0.8.3-py3-none-any.whl.metadata (3.9 kB)\n",
      "Collecting google-ai-generativelanguage==0.6.10 (from google-generativeai->pgmpy)\n",
      "  Downloading google_ai_generativelanguage-0.6.10-py3-none-any.whl.metadata (5.6 kB)\n",
      "Requirement already satisfied: google-api-core in /Users/yukijoyama/opt/anaconda3/lib/python3.9/site-packages (from google-generativeai->pgmpy) (1.25.1)\n",
      "Collecting google-api-python-client (from google-generativeai->pgmpy)\n",
      "  Downloading google_api_python_client-2.154.0-py2.py3-none-any.whl.metadata (6.7 kB)\n",
      "Collecting google-auth>=2.15.0 (from google-generativeai->pgmpy)\n",
      "  Downloading google_auth-2.36.0-py2.py3-none-any.whl.metadata (4.7 kB)\n",
      "Requirement already satisfied: protobuf in /Users/yukijoyama/opt/anaconda3/lib/python3.9/site-packages (from google-generativeai->pgmpy) (3.19.1)\n",
      "Collecting pydantic (from google-generativeai->pgmpy)\n",
      "  Downloading pydantic-2.10.0-py3-none-any.whl.metadata (167 kB)\n",
      "Requirement already satisfied: typing-extensions in /Users/yukijoyama/opt/anaconda3/lib/python3.9/site-packages (from google-generativeai->pgmpy) (4.1.1)\n",
      "Collecting google-api-core (from google-generativeai->pgmpy)\n",
      "  Downloading google_api_core-2.23.0-py3-none-any.whl.metadata (3.0 kB)\n",
      "Collecting proto-plus<2.0.0dev,>=1.22.3 (from google-ai-generativelanguage==0.6.10->google-generativeai->pgmpy)\n",
      "  Downloading proto_plus-1.25.0-py3-none-any.whl.metadata (2.2 kB)\n",
      "Collecting protobuf (from google-generativeai->pgmpy)\n",
      "  Downloading protobuf-5.28.3-cp38-abi3-macosx_10_9_universal2.whl.metadata (592 bytes)\n",
      "Requirement already satisfied: python-dateutil>=2.8.1 in /Users/yukijoyama/opt/anaconda3/lib/python3.9/site-packages (from pandas->pgmpy) (2.8.2)\n",
      "Requirement already satisfied: pytz>=2020.1 in /Users/yukijoyama/opt/anaconda3/lib/python3.9/site-packages (from pandas->pgmpy) (2021.3)\n",
      "Requirement already satisfied: threadpoolctl>=2.0.0 in /Users/yukijoyama/opt/anaconda3/lib/python3.9/site-packages (from scikit-learn->pgmpy) (2.2.0)\n",
      "Requirement already satisfied: patsy>=0.5.2 in /Users/yukijoyama/opt/anaconda3/lib/python3.9/site-packages (from statsmodels->pgmpy) (0.5.2)\n",
      "Requirement already satisfied: packaging>=21.3 in /Users/yukijoyama/opt/anaconda3/lib/python3.9/site-packages (from statsmodels->pgmpy) (21.3)\n",
      "Requirement already satisfied: filelock in /Users/yukijoyama/opt/anaconda3/lib/python3.9/site-packages (from torch->pgmpy) (3.6.0)\n",
      "Collecting typing-extensions (from google-generativeai->pgmpy)\n",
      "  Downloading typing_extensions-4.12.2-py3-none-any.whl.metadata (3.0 kB)\n",
      "Requirement already satisfied: sympy in /Users/yukijoyama/opt/anaconda3/lib/python3.9/site-packages (from torch->pgmpy) (1.10.1)\n",
      "Requirement already satisfied: jinja2 in /Users/yukijoyama/opt/anaconda3/lib/python3.9/site-packages (from torch->pgmpy) (2.11.3)\n",
      "Requirement already satisfied: fsspec in /Users/yukijoyama/opt/anaconda3/lib/python3.9/site-packages (from torch->pgmpy) (2022.2.0)\n",
      "Collecting googleapis-common-protos<2.0.dev0,>=1.56.2 (from google-api-core->google-generativeai->pgmpy)\n",
      "  Downloading googleapis_common_protos-1.66.0-py2.py3-none-any.whl.metadata (1.5 kB)\n",
      "Requirement already satisfied: requests<3.0.0.dev0,>=2.18.0 in /Users/yukijoyama/opt/anaconda3/lib/python3.9/site-packages (from google-api-core->google-generativeai->pgmpy) (2.27.1)\n",
      "Requirement already satisfied: cachetools<6.0,>=2.0.0 in /Users/yukijoyama/opt/anaconda3/lib/python3.9/site-packages (from google-auth>=2.15.0->google-generativeai->pgmpy) (4.2.2)\n",
      "Requirement already satisfied: pyasn1-modules>=0.2.1 in /Users/yukijoyama/opt/anaconda3/lib/python3.9/site-packages (from google-auth>=2.15.0->google-generativeai->pgmpy) (0.2.8)\n",
      "Requirement already satisfied: rsa<5,>=3.1.4 in /Users/yukijoyama/opt/anaconda3/lib/python3.9/site-packages (from google-auth>=2.15.0->google-generativeai->pgmpy) (4.7.2)\n",
      "Requirement already satisfied: six in /Users/yukijoyama/opt/anaconda3/lib/python3.9/site-packages (from patsy>=0.5.2->statsmodels->pgmpy) (1.16.0)\n",
      "Collecting httplib2<1.dev0,>=0.19.0 (from google-api-python-client->google-generativeai->pgmpy)\n",
      "  Downloading httplib2-0.22.0-py3-none-any.whl.metadata (2.6 kB)\n",
      "Collecting google-auth-httplib2<1.0.0,>=0.2.0 (from google-api-python-client->google-generativeai->pgmpy)\n",
      "  Downloading google_auth_httplib2-0.2.0-py2.py3-none-any.whl.metadata (2.2 kB)\n",
      "Collecting uritemplate<5,>=3.0.1 (from google-api-python-client->google-generativeai->pgmpy)\n",
      "  Downloading uritemplate-4.1.1-py2.py3-none-any.whl.metadata (2.9 kB)\n",
      "Requirement already satisfied: MarkupSafe>=0.23 in /Users/yukijoyama/opt/anaconda3/lib/python3.9/site-packages (from jinja2->torch->pgmpy) (2.0.1)\n",
      "Collecting annotated-types>=0.6.0 (from pydantic->google-generativeai->pgmpy)\n",
      "  Downloading annotated_types-0.7.0-py3-none-any.whl.metadata (15 kB)\n",
      "Collecting pydantic-core==2.27.0 (from pydantic->google-generativeai->pgmpy)\n",
      "  Downloading pydantic_core-2.27.0-cp39-cp39-macosx_10_12_x86_64.whl.metadata (6.6 kB)\n",
      "Requirement already satisfied: mpmath>=0.19 in /Users/yukijoyama/opt/anaconda3/lib/python3.9/site-packages (from sympy->torch->pgmpy) (1.2.1)\n",
      "Requirement already satisfied: grpcio<2.0dev,>=1.33.2 in /Users/yukijoyama/opt/anaconda3/lib/python3.9/site-packages (from google-api-core[grpc]!=2.0.*,!=2.1.*,!=2.10.*,!=2.2.*,!=2.3.*,!=2.4.*,!=2.5.*,!=2.6.*,!=2.7.*,!=2.8.*,!=2.9.*,<3.0.0dev,>=1.34.1->google-ai-generativelanguage==0.6.10->google-generativeai->pgmpy) (1.42.0)\n",
      "Collecting grpcio-status<2.0.dev0,>=1.33.2 (from google-api-core[grpc]!=2.0.*,!=2.1.*,!=2.10.*,!=2.2.*,!=2.3.*,!=2.4.*,!=2.5.*,!=2.6.*,!=2.7.*,!=2.8.*,!=2.9.*,<3.0.0dev,>=1.34.1->google-ai-generativelanguage==0.6.10->google-generativeai->pgmpy)\n",
      "  Downloading grpcio_status-1.68.0-py3-none-any.whl.metadata (1.1 kB)\n",
      "Requirement already satisfied: pyasn1<0.5.0,>=0.4.6 in /Users/yukijoyama/opt/anaconda3/lib/python3.9/site-packages (from pyasn1-modules>=0.2.1->google-auth>=2.15.0->google-generativeai->pgmpy) (0.4.8)\n",
      "Requirement already satisfied: urllib3<1.27,>=1.21.1 in /Users/yukijoyama/opt/anaconda3/lib/python3.9/site-packages (from requests<3.0.0.dev0,>=2.18.0->google-api-core->google-generativeai->pgmpy) (1.26.9)\n",
      "Requirement already satisfied: certifi>=2017.4.17 in /Users/yukijoyama/opt/anaconda3/lib/python3.9/site-packages (from requests<3.0.0.dev0,>=2.18.0->google-api-core->google-generativeai->pgmpy) (2021.10.8)\n",
      "Requirement already satisfied: charset-normalizer~=2.0.0 in /Users/yukijoyama/opt/anaconda3/lib/python3.9/site-packages (from requests<3.0.0.dev0,>=2.18.0->google-api-core->google-generativeai->pgmpy) (2.0.4)\n",
      "Requirement already satisfied: idna<4,>=2.5 in /Users/yukijoyama/opt/anaconda3/lib/python3.9/site-packages (from requests<3.0.0.dev0,>=2.18.0->google-api-core->google-generativeai->pgmpy) (3.3)\n"
     ]
    },
    {
     "name": "stdout",
     "output_type": "stream",
     "text": [
      "Collecting grpcio<2.0dev,>=1.33.2 (from google-api-core[grpc]!=2.0.*,!=2.1.*,!=2.10.*,!=2.2.*,!=2.3.*,!=2.4.*,!=2.5.*,!=2.6.*,!=2.7.*,!=2.8.*,!=2.9.*,<3.0.0dev,>=1.34.1->google-ai-generativelanguage==0.6.10->google-generativeai->pgmpy)\n",
      "  Downloading grpcio-1.68.0-cp39-cp39-macosx_10_9_universal2.whl.metadata (3.9 kB)\n",
      "Downloading pgmpy-0.1.26-py3-none-any.whl (2.0 MB)\n",
      "\u001b[2K   \u001b[90m━━━━━━━━━━━━━━━━━━━━━━━━━━━━━━━━━━━━━━━━\u001b[0m \u001b[32m2.0/2.0 MB\u001b[0m \u001b[31m24.6 MB/s\u001b[0m eta \u001b[36m0:00:00\u001b[0m\n",
      "\u001b[?25hDownloading google_generativeai-0.8.3-py3-none-any.whl (160 kB)\n",
      "Downloading google_ai_generativelanguage-0.6.10-py3-none-any.whl (760 kB)\n",
      "\u001b[2K   \u001b[90m━━━━━━━━━━━━━━━━━━━━━━━━━━━━━━━━━━━━━━━━\u001b[0m \u001b[32m760.0/760.0 kB\u001b[0m \u001b[31m24.7 MB/s\u001b[0m eta \u001b[36m0:00:00\u001b[0m\n",
      "\u001b[?25hDownloading torch-2.2.2-cp39-none-macosx_10_9_x86_64.whl (150.8 MB)\n",
      "\u001b[2K   \u001b[90m━━━━━━━━━━━━━━━━━━━━━━━━━━━━━━━━━━━━━━━━\u001b[0m \u001b[32m150.8/150.8 MB\u001b[0m \u001b[31m47.5 MB/s\u001b[0m eta \u001b[36m0:00:00\u001b[0m00:01\u001b[0m00:01\u001b[0m\n",
      "\u001b[?25hDownloading google_api_core-2.23.0-py3-none-any.whl (156 kB)\n",
      "Downloading google_auth-2.36.0-py2.py3-none-any.whl (209 kB)\n",
      "Downloading protobuf-5.28.3-cp38-abi3-macosx_10_9_universal2.whl (414 kB)\n",
      "Downloading typing_extensions-4.12.2-py3-none-any.whl (37 kB)\n",
      "Downloading google_api_python_client-2.154.0-py2.py3-none-any.whl (12.6 MB)\n",
      "\u001b[2K   \u001b[90m━━━━━━━━━━━━━━━━━━━━━━━━━━━━━━━━━━━━━━━━\u001b[0m \u001b[32m12.6/12.6 MB\u001b[0m \u001b[31m49.1 MB/s\u001b[0m eta \u001b[36m0:00:00\u001b[0ma \u001b[36m0:00:01\u001b[0m\n",
      "\u001b[?25hDownloading pydantic-2.10.0-py3-none-any.whl (454 kB)\n",
      "Downloading pydantic_core-2.27.0-cp39-cp39-macosx_10_12_x86_64.whl (1.9 MB)\n",
      "\u001b[2K   \u001b[90m━━━━━━━━━━━━━━━━━━━━━━━━━━━━━━━━━━━━━━━━\u001b[0m \u001b[32m1.9/1.9 MB\u001b[0m \u001b[31m45.6 MB/s\u001b[0m eta \u001b[36m0:00:00\u001b[0m\n",
      "\u001b[?25hDownloading annotated_types-0.7.0-py3-none-any.whl (13 kB)\n",
      "Downloading google_auth_httplib2-0.2.0-py2.py3-none-any.whl (9.3 kB)\n",
      "Downloading googleapis_common_protos-1.66.0-py2.py3-none-any.whl (221 kB)\n",
      "Downloading httplib2-0.22.0-py3-none-any.whl (96 kB)\n",
      "Downloading proto_plus-1.25.0-py3-none-any.whl (50 kB)\n",
      "Downloading uritemplate-4.1.1-py2.py3-none-any.whl (10 kB)\n",
      "Downloading grpcio_status-1.68.0-py3-none-any.whl (14 kB)\n",
      "Downloading grpcio-1.68.0-cp39-cp39-macosx_10_9_universal2.whl (11.1 MB)\n",
      "\u001b[2K   \u001b[90m━━━━━━━━━━━━━━━━━━━━━━━━━━━━━━━━━━━━━━━━\u001b[0m \u001b[32m11.1/11.1 MB\u001b[0m \u001b[31m56.9 MB/s\u001b[0m eta \u001b[36m0:00:00\u001b[0m\n",
      "\u001b[?25hInstalling collected packages: uritemplate, typing-extensions, protobuf, httplib2, grpcio, annotated-types, torch, pydantic-core, proto-plus, googleapis-common-protos, google-auth, pydantic, grpcio-status, google-auth-httplib2, google-api-core, google-api-python-client, google-ai-generativelanguage, google-generativeai, pgmpy\n",
      "  Attempting uninstall: typing-extensions\n",
      "    Found existing installation: typing_extensions 4.1.1\n",
      "    Uninstalling typing_extensions-4.1.1:\n",
      "      Successfully uninstalled typing_extensions-4.1.1\n",
      "  Attempting uninstall: protobuf\n",
      "    Found existing installation: protobuf 3.19.1\n",
      "    Uninstalling protobuf-3.19.1:\n",
      "      Successfully uninstalled protobuf-3.19.1\n",
      "  Attempting uninstall: grpcio\n",
      "    Found existing installation: grpcio 1.42.0\n",
      "    Uninstalling grpcio-1.42.0:\n",
      "      Successfully uninstalled grpcio-1.42.0\n"
     ]
    }
   ],
   "source": [
    "pip install pgmpy"
   ]
  },
  {
   "cell_type": "code",
   "execution_count": 14,
   "id": "a7c60520",
   "metadata": {},
   "outputs": [],
   "source": [
    "import utils, random, copy, statistics, pcalg"
   ]
  },
  {
   "cell_type": "code",
   "execution_count": 15,
   "id": "bb0218eb",
   "metadata": {},
   "outputs": [],
   "source": [
    "import pandas as pd\n",
    "import numpy as np\n",
    "import networkx as nx"
   ]
  },
  {
   "cell_type": "code",
   "execution_count": null,
   "id": "0bbc98ba",
   "metadata": {},
   "outputs": [],
   "source": [
    "from itertools import product\n",
    "from pgmpy.estimators import BicScore"
   ]
  }
 ],
 "metadata": {
  "kernelspec": {
   "display_name": "Python 3 (ipykernel)",
   "language": "python",
   "name": "python3"
  },
  "language_info": {
   "codemirror_mode": {
    "name": "ipython",
    "version": 3
   },
   "file_extension": ".py",
   "mimetype": "text/x-python",
   "name": "python",
   "nbconvert_exporter": "python",
   "pygments_lexer": "ipython3",
   "version": "3.9.12"
  }
 },
 "nbformat": 4,
 "nbformat_minor": 5
}
